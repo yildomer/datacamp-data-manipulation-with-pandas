{
 "cells": [
  {
   "cell_type": "raw",
   "id": "28c0d68f",
   "metadata": {},
   "source": [
    "# Introducing DataFrames\n",
    "\n",
    "1 - DataFrames\n",
    "\n",
    "pandas is built on NumPy and Matplotlib.\n",
    "pandas has millions of users, entire Python Data Science community.\n",
    "Rectangular data is the 'dataframes' in pandas."
   ]
  },
  {
   "cell_type": "raw",
   "id": "3a396af1",
   "metadata": {},
   "source": [
    "# Printing DataFrames\n",
    "print(df)"
   ]
  },
  {
   "cell_type": "raw",
   "id": "6193fabc",
   "metadata": {},
   "source": [
    "Column contains same data type but different columns may have different data type."
   ]
  },
  {
   "cell_type": "raw",
   "id": "ab0d858a",
   "metadata": {},
   "source": [
    "df.head()\n",
    "First 5 rows of dataset.\n",
    "\n",
    "df.info()\n",
    "Names of columns, data types, whether they have missing values.\n",
    "\n",
    "df.shape\n",
    "Attribute, not method, number of rows and columns in a tuple.\n",
    "\n",
    "df.describe()\n",
    "summary statistics for numeric columns, quick overview.\n",
    "\n",
    "df.values\n",
    "matrix shape, data values in 2D array.\n",
    "\n",
    "df.columns\n",
    "column names.\n",
    "\n",
    "df.index\n",
    "row numbers/names, flexibility and labeling.\n",
    "\n",
    "pandas Philosophy: only one obvious way to do a spesific job.\n",
    "But pandas does not follow this philosophy, Swiss army knife."
   ]
  },
  {
   "cell_type": "code",
   "execution_count": null,
   "id": "9488812c",
   "metadata": {},
   "outputs": [],
   "source": [
    "# Print the head of the homelessness data\n",
    "print(homelessness.head())\n",
    "\n",
    "# Print information about homelessness\n",
    "print(homelessness.info())\n",
    "\n",
    "# Print the shape of homelessness\n",
    "print(homelessness.shape)\n",
    "\n",
    "# Print a description of homelessness\n",
    "print(homelessness.describe())"
   ]
  },
  {
   "cell_type": "code",
   "execution_count": null,
   "id": "5ce7be3f",
   "metadata": {},
   "outputs": [],
   "source": [
    "# Import pandas using the alias pd\n",
    "import pandas as pd\n",
    "\n",
    "# Print the values of homelessness - 2D Array\n",
    "print(homelessness.values)\n",
    "\n",
    "# Print the column index of homelessness\n",
    "print(homelessness.columns)\n",
    "\n",
    "# Print the row index of homelessness\n",
    "print(homelessness.index)"
   ]
  },
  {
   "cell_type": "code",
   "execution_count": null,
   "id": "c79e9c12",
   "metadata": {},
   "outputs": [],
   "source": [
    "# Sorting and Subsetting\n",
    "df.sort_values('column_name')\n",
    "# ascending = False\n",
    "\n",
    "df.sort_values(['col1','col2'])\n",
    "\n",
    "df.sort_values(['col1','col2'], ascending = [True,False])\n",
    "\n",
    "df['col_name'] : to get only one column\n",
    "\n",
    "df[['col1','col2']]: outer is subsetting, inner is list of columns\n",
    "\n",
    "df['col'] > 50 : this expression can be inner expression, this returns bool array.\n",
    "\n",
    "df['col'] == 'Labrador'\n",
    "\n",
    "df[df['date'] < '2015-01-01']\n",
    "# Dates: yyyy-mm-dd\n",
    "\n",
    "is_labrador\n",
    "is_brown\n",
    "df[is_labrador & is_brown]\n",
    "\n",
    "df['col'].isin(['Black','Brown'])"
   ]
  },
  {
   "cell_type": "code",
   "execution_count": null,
   "id": "ca91ef71",
   "metadata": {},
   "outputs": [],
   "source": [
    "# Sort homelessness by individuals\n",
    "homelessness_ind = homelessness.sort_values('individuals')\n",
    "\n",
    "# Print the top few rows\n",
    "print(homelessness_ind.head())"
   ]
  },
  {
   "cell_type": "code",
   "execution_count": null,
   "id": "faf07c81",
   "metadata": {},
   "outputs": [],
   "source": [
    "# Sort homelessness by descending family members\n",
    "homelessness_fam = homelessness.sort_values('family_members', ascending = False)\n",
    "\n",
    "# Print the top few rows\n",
    "print(homelessness_fam.head())"
   ]
  },
  {
   "cell_type": "code",
   "execution_count": null,
   "id": "6b0d236c",
   "metadata": {},
   "outputs": [],
   "source": [
    "# Sort homelessness by region, then descending family members\n",
    "homelessness_reg_fam = homelessness.sort_values(['region','family_members'], ascending = [True,False])\n",
    "\n",
    "# Print the top few rows\n",
    "print(homelessness_reg_fam.head())"
   ]
  },
  {
   "cell_type": "code",
   "execution_count": null,
   "id": "bfd38fb7",
   "metadata": {},
   "outputs": [],
   "source": [
    "# Select the individuals column\n",
    "individuals = homelessness['individuals']\n",
    "\n",
    "# Print the head of the result\n",
    "print(individuals.head())"
   ]
  },
  {
   "cell_type": "code",
   "execution_count": null,
   "id": "b6819389",
   "metadata": {},
   "outputs": [],
   "source": [
    "# Select the state and family_members columns\n",
    "state_fam = homelessness[['state','family_members']]\n",
    "\n",
    "# Print the head of the result\n",
    "print(state_fam.head())"
   ]
  },
  {
   "cell_type": "code",
   "execution_count": null,
   "id": "45d10fcb",
   "metadata": {},
   "outputs": [],
   "source": [
    "# Select only the individuals and state columns, in that order\n",
    "ind_state = homelessness[['individuals','state']]\n",
    "\n",
    "# Print the head of the result\n",
    "print(ind_state.head())"
   ]
  },
  {
   "cell_type": "code",
   "execution_count": null,
   "id": "f567eda3",
   "metadata": {},
   "outputs": [],
   "source": [
    "# Filter for rows where individuals is greater than 10000\n",
    "ind_gt_10k = homelessness[homelessness['individuals'] > 10000]\n",
    "\n",
    "# See the result\n",
    "print(ind_gt_10k)"
   ]
  },
  {
   "cell_type": "code",
   "execution_count": null,
   "id": "4d50ed33",
   "metadata": {},
   "outputs": [],
   "source": [
    "# Filter for rows where region is Mountain\n",
    "mountain_reg = homelessness[homelessness['region'] == 'Mountain']\n",
    "\n",
    "# See the result\n",
    "print(mountain_reg)"
   ]
  },
  {
   "cell_type": "code",
   "execution_count": null,
   "id": "faffa634",
   "metadata": {},
   "outputs": [],
   "source": [
    "# Filter for rows where family_members is less than 1000 \n",
    "# and region is Pacific\n",
    "fam_lt_1k_pac = homelessness[(homelessness['family_members'] < 1000) & (homelessness['region'] == 'Pacific')]\n",
    "\n",
    "# See the result\n",
    "print(fam_lt_1k_pac)"
   ]
  },
  {
   "cell_type": "code",
   "execution_count": null,
   "id": "b544e002",
   "metadata": {},
   "outputs": [],
   "source": [
    "# Subset for rows in South Atlantic or Mid-Atlantic regions\n",
    "south_mid_atlantic = homelessness[homelessness['region'].isin(['South Atlantic','Mid-Atlantic'])]\n",
    "\n",
    "# See the result\n",
    "print(south_mid_atlantic)"
   ]
  },
  {
   "cell_type": "code",
   "execution_count": null,
   "id": "cff72d01",
   "metadata": {},
   "outputs": [],
   "source": [
    "# The Mojave Desert states\n",
    "canu = [\"California\", \"Arizona\", \"Nevada\", \"Utah\"]\n",
    "\n",
    "# Filter for rows in the Mojave Desert states\n",
    "mojave_homelessness = homelessness[homelessness['state'].isin(canu)]\n",
    "\n",
    "# See the result\n",
    "print(mojave_homelessness)"
   ]
  },
  {
   "cell_type": "raw",
   "id": "3930a8aa",
   "metadata": {},
   "source": [
    "# New Columns\n",
    "\n",
    "df['new_column'] = df['col'] / 100 (any expression)"
   ]
  },
  {
   "cell_type": "code",
   "execution_count": null,
   "id": "4248ae4b",
   "metadata": {},
   "outputs": [],
   "source": [
    "# Add total col as sum of individuals and family_members\n",
    "homelessness['total'] = homelessness['individuals'] + homelessness['family_members']\n",
    "\n",
    "# Add p_individuals col as proportion of total that are individuals\n",
    "homelessness['p_individuals'] = homelessness['individuals'] / homelessness['total']\n",
    "\n",
    "# See the result\n",
    "print(homelessness)"
   ]
  },
  {
   "cell_type": "code",
   "execution_count": null,
   "id": "9650d1ac",
   "metadata": {},
   "outputs": [],
   "source": [
    "# Create indiv_per_10k col as homeless individuals per 10k state pop\n",
    "homelessness[\"indiv_per_10k\"] = 10000 * homelessness['individuals'] / homelessness['state_pop']\n",
    "\n",
    "# Subset rows for indiv_per_10k greater than 20\n",
    "high_homelessness = homelessness[homelessness['indiv_per_10k'] > 20]\n",
    "\n",
    "# Sort high_homelessness by descending indiv_per_10k\n",
    "high_homelessness_srt = high_homelessness.sort_values('indiv_per_10k',ascending =False)\n",
    "\n",
    "# From high_homelessness_srt, select the state and indiv_per_10k cols\n",
    "result = high_homelessness_srt[['state','indiv_per_10k']]\n",
    "\n",
    "# See the result\n",
    "print(result)"
   ]
  }
 ],
 "metadata": {
  "kernelspec": {
   "display_name": "Python 3 (ipykernel)",
   "language": "python",
   "name": "python3"
  },
  "language_info": {
   "codemirror_mode": {
    "name": "ipython",
    "version": 3
   },
   "file_extension": ".py",
   "mimetype": "text/x-python",
   "name": "python",
   "nbconvert_exporter": "python",
   "pygments_lexer": "ipython3",
   "version": "3.10.7"
  }
 },
 "nbformat": 4,
 "nbformat_minor": 5
}
